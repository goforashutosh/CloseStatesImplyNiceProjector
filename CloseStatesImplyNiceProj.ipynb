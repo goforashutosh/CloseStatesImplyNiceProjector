{
 "cells": [
  {
   "cell_type": "markdown",
   "metadata": {},
   "source": [
    "# Question\n",
    "\n",
    "We ask the question: If the states $\\rho$ and $\\sigma$ are close to each other $\\Vert \\rho - \\sigma \\Vert_1 \\leq \\epsilon$, does there exist a projector $\\Pi$, such that $\\Pi \\rho \\Pi \\leq (1+g_1(\\epsilon)) \\sigma$ and $\\text{tr}(\\Pi \\sigma) \\geq 1- g_2(\\epsilon)$ for some small functions $g_1(\\epsilon)$ and $g_2(\\epsilon)$?\n",
    "\n",
    "In this notebook, we focus on the case where the projectors consist of the eigenvectors of $\\sigma$. "
   ]
  },
  {
   "cell_type": "markdown",
   "metadata": {},
   "source": [
    "Package imports:"
   ]
  },
  {
   "cell_type": "code",
   "execution_count": 148,
   "metadata": {},
   "outputs": [],
   "source": [
    "import numpy as np\n",
    "import random as rnd\n",
    "from pprint import pprint\n",
    "from numpy.random import default_rng\n",
    "\n",
    "\n",
    "# Importing stuff to make random sampling of psd matrices possible\n",
    "import sys\n",
    "sys.path.append('/Users/vivekmarwah/Documents/Research scripts')\n",
    "import PSDMatrixFunctions as psdFn\n"
   ]
  },
  {
   "cell_type": "markdown",
   "metadata": {},
   "source": [
    "We define the functions as $g_1(\\epsilon):= \\epsilon^{\\alpha}$ and $g_2(\\epsilon):= \\epsilon^{\\beta}$ for $\\alpha + \\beta \\leq 1$, which is what works in the 2 dim case.\n",
    "\n",
    "<bold>Choice of $\\alpha, \\beta$ </bold>: We can't choose $g_1$ and $g_2$ to be too small, since the maximum N we can choose is about ~40. \n",
    "\n",
    "I think a dimension dependent g1 could always work, so we want say $g_2$*N to still be small.\n"
   ]
  },
  {
   "cell_type": "code",
   "execution_count": 149,
   "metadata": {},
   "outputs": [],
   "source": [
    "def g1(eps):\n",
    "    return np.power(eps,0.5)\n",
    "\n",
    "def g2(eps):\n",
    "    return np.power(eps,0.5)"
   ]
  },
  {
   "cell_type": "markdown",
   "metadata": {},
   "source": [
    "Parameters for the problem:\n",
    "- N: dimension of $\\rho$ and $\\sigma$\n",
    "- eps_max: is the maximum possible $\\epsilon$ in the problem statement, we calculate actual distance later"
   ]
  },
  {
   "cell_type": "markdown",
   "metadata": {},
   "source": [
    "### Construction of $\\sigma$\n",
    "\n",
    "We can assume WLOG that $\\sigma$ is a diagonal matrix. We need to make sure that at least some eigenvalues of $\\sigma$ are smaller than $g_2(\\epsilon)$, otherwise we can prove that the statement is true.\n",
    "\n",
    "num_small: represents number of eigenvalues smaller than $g_2(\\epsilon)$"
   ]
  },
  {
   "cell_type": "code",
   "execution_count": 150,
   "metadata": {},
   "outputs": [],
   "source": [
    "def sample_sigma(N: int, eps_max: float) -> np.ndarray:\n",
    "    '''Samples a random diagonal matrix sigma'''\n",
    "    num_small= rnd.randint(1, N-1)\n",
    "    eig_sigma= []\n",
    "\n",
    "    # Select num_small numbers smaller than g2(eps_max) randomly\n",
    "    for i in range(num_small):\n",
    "        eig_sigma.append(rnd.uniform(0, g2(eps_max)))\n",
    "\n",
    "    # Calculate the sum of all the small eigenvalues\n",
    "    sum_small = sum(eig_sigma)\n",
    "\n",
    "    # Ensure that the sum of the small eigenvalues does not exceed 1\n",
    "    if sum_small > 1: \n",
    "        target_sum_small = rnd.uniform(0,1)\n",
    "\n",
    "        # Rescale the small eigenvalues so that their sum is \n",
    "        eig_sigma = list(map(\n",
    "                        lambda x: x*target_sum_small/sum_small, \n",
    "                        eig_sigma\n",
    "                        )\n",
    "                    )\n",
    "        sum_small = target_sum_small\n",
    "\n",
    "    # Choose the rest of the eigenvalues\n",
    "    eig_sigma_large = []\n",
    "\n",
    "    for i in range(num_small, N): \n",
    "        eig_sigma_large.append(rnd.uniform(0,1))\n",
    "\n",
    "    sum_large = sum(eig_sigma_large)\n",
    "    target_sum_large = 1- sum_small\n",
    "\n",
    "    # Rescale them so that their sum is 1- sum_small\n",
    "    eig_sigma_large = list(map(\n",
    "                        lambda x: x*target_sum_large/sum_large, \n",
    "                        eig_sigma_large\n",
    "                        )\n",
    "                    )\n",
    "\n",
    "    eig_sigma.extend(eig_sigma_large)\n",
    "\n",
    "    # Put the eigenvalues constructed in a diagonal matrix to create sigma \n",
    "    sigma = np.diag(eig_sigma)\n",
    "    return sigma"
   ]
  },
  {
   "cell_type": "markdown",
   "metadata": {},
   "source": [
    "### Sampling $\\rho$\n",
    "\n",
    "To sample $\\rho$, we sample two PSD matrices with trace=1, $P$ and $Q$ randomly until the matrix \n",
    "$$\\sigma + \\frac{\\epsilon}{2}P - \\frac{\\epsilon}{2}Q$$\n",
    "is positive. We choose this positive matrix to be $\\rho$. Clearly, this has trace=1 and $\\Vert \\rho - \\sigma \\Vert_1 \\leq \\epsilon_{\\max}$. We calculate the actual distance and use it for computation."
   ]
  },
  {
   "cell_type": "code",
   "execution_count": 151,
   "metadata": {},
   "outputs": [],
   "source": [
    "rng = default_rng()\n",
    "\n",
    "def sample_rho(N: int, eps_max: float, sigma: np.ndarray, num_tries: int = 100): \n",
    "    '''Samples a positive matrix rho of dimension [N] atmost [eps_max] far from sigma. \n",
    "    Probabilistic procedure runs only for [num_tries] and then throw an error'''\n",
    "    while num_tries>0:\n",
    "        num_tries = num_tries-1\n",
    "        P= psdFn.randomPositiveMatrix(rng, N)\n",
    "        P= P/np.trace(P)\n",
    "        Q=psdFn.randomPositiveMatrix(rng, N)\n",
    "        Q= Q/np.trace(Q)\n",
    "        rho = np.array(sigma + eps_max/2*P - eps_max/2*Q)\n",
    "        # Need to make sure that the tolerance of the function doesn't mess up the dist\n",
    "        if psdFn.isPositive(rho, tol=eps_max*1e-4):\n",
    "            return rho\n",
    "    raise ValueError(\"Exhausted number of tries for given values\")"
   ]
  },
  {
   "cell_type": "markdown",
   "metadata": {},
   "source": [
    "The following function tests whether the rho and sigma sampling work right."
   ]
  },
  {
   "cell_type": "code",
   "execution_count": 152,
   "metadata": {},
   "outputs": [],
   "source": [
    "# Test for the above rho and sigma sampling\n",
    "def test_sampling(N, eps_max, num_test):\n",
    "    num_fail=0\n",
    "    for i in range(num_test):\n",
    "        sigma = sample_sigma(N, eps_max)\n",
    "        try:\n",
    "            rho = sample_rho(N, eps_max, sigma)\n",
    "            # 'nuc' represents nuclear/ 1-norm\n",
    "            dist = np.linalg.norm(sigma-rho, ord='nuc')\n",
    "            if (dist > eps_max or\n",
    "                abs(np.trace(rho) -1) > eps_max*1e-4 or\n",
    "                not psdFn.isPositive(rho, tol=eps_max*1e-4)):\n",
    "                print(\"Test Fail\")\n",
    "                print('Distance:', dist)\n",
    "                print('trace of rho:', abs(np.trace(rho) -1))\n",
    "                return\n",
    "        except ValueError:\n",
    "            num_fail+=1\n",
    "    \n",
    "    print(\"Test successful\")\n",
    "    print(\"num_fail= \", num_fail)\n",
    "\n",
    "# Precision of numpy double (standard float for np) is only 16 digits\n",
    "# test_sampling(100, 1e-11, 10000)\n",
    "\n",
    "# Test above works for \n",
    "# N=100 and eps_max= 1e-11\n",
    "# N=1000 and eps_max=1e-10\n"
   ]
  },
  {
   "cell_type": "markdown",
   "metadata": {},
   "source": [
    "# Choosing the projector\n",
    "\n",
    "Now we will create a function to go through all the possible projectors of $\\sigma$. Note, we can restrict ourselves to projectors, which include the eigenvectors corresponding to the large eigenvalues. "
   ]
  },
  {
   "cell_type": "code",
   "execution_count": 153,
   "metadata": {},
   "outputs": [
    {
     "name": "stdout",
     "output_type": "stream",
     "text": [
      "Test successful\n"
     ]
    }
   ],
   "source": [
    "from itertools import combinations\n",
    "\n",
    "# This function requires approximately 2^(N/2) time on average\n",
    "def goodProjectorExists(N, sigma, rho) -> tuple[bool, np.ndarray]:\n",
    "    '''Returns true or false depending on whether a good projector exists. \n",
    "    Also returns the projector if it exists'''\n",
    "    dist = np.linalg.norm(sigma-rho, ord='nuc')\n",
    "    # indices of small eig\n",
    "    eig_small=[i for i in range(N) if sigma[i,i] < g2(dist)]\n",
    "    # indices of large eig\n",
    "    eig_large = [i for i in range(N) if i not in eig_small]\n",
    "    # Number of loops here = 2^len(eig_small)\n",
    "    # k cycles through all the possible sizes of subsets of eig_small\n",
    "    for k in range(len(eig_small)+1):\n",
    "        # comb cycles through k sized combinations of eig_small\n",
    "        for comb in combinations(eig_small, k):\n",
    "            # Fill up the projector correctly\n",
    "            proj = np.zeros((N,N))\n",
    "            for i in range(N):\n",
    "                if i in comb or i in eig_large:\n",
    "                    proj[i,i]=1\n",
    "            # @ is the symbol for matrix multiplication\n",
    "            proj_rho = proj @ rho @ proj\n",
    "            diff = (1+g1(dist))*sigma - proj_rho\n",
    "            if psdFn.isPositive(diff, tol=dist*1e-4):\n",
    "                return (True, proj)\n",
    "    return (False, None)\n",
    "            \n",
    "\n",
    "def test_goodProjectorExists(N, eps_max, num_trial):\n",
    "    for i in range(num_trial):\n",
    "        sigma =sample_sigma(N, eps_max)\n",
    "        rho = sample_rho(N, eps_max, sigma)\n",
    "        result, _ = goodProjectorExists(N, sigma, rho)\n",
    "        if not result: \n",
    "            print(\"Failure\")\n",
    "            print(sigma)\n",
    "            print(rho)\n",
    "            return\n",
    "    print(\"Test successful\")\n",
    "\n",
    "# This test always has to be successful, since the statement is true for N=2\n",
    "# test_goodProjectorExists(2, 1e-10, 1000)\n",
    "\n",
    "# This is successful\n",
    "test_goodProjectorExists(40, 1e-11, 10000)\n",
    "\n",
    "# N=4\n",
    "# eps_max=1e-10\n",
    "# sigma =sample_sigma(N, eps_max)\n",
    "# rho = sample_rho(N, eps_max, sigma)\n",
    "# result, proj = goodProjectorExists(N, sigma, rho)\n",
    "\n",
    "# pprint(sigma)\n",
    "# pprint(rho)\n",
    "# print(result)\n",
    "# pprint(proj)\n"
   ]
  }
 ],
 "metadata": {
  "kernelspec": {
   "display_name": "Python 3.9.7 64-bit",
   "language": "python",
   "name": "python3"
  },
  "language_info": {
   "codemirror_mode": {
    "name": "ipython",
    "version": 3
   },
   "file_extension": ".py",
   "mimetype": "text/x-python",
   "name": "python",
   "nbconvert_exporter": "python",
   "pygments_lexer": "ipython3",
   "version": "3.9.7"
  },
  "orig_nbformat": 4,
  "vscode": {
   "interpreter": {
    "hash": "aee8b7b246df8f9039afb4144a1f6fd8d2ca17a180786b69acc140d282b71a49"
   }
  }
 },
 "nbformat": 4,
 "nbformat_minor": 2
}
