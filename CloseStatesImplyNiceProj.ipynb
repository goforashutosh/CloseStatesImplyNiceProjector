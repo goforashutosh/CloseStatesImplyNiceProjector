{
 "cells": [
  {
   "cell_type": "markdown",
   "metadata": {},
   "source": [
    "# Question\n",
    "\n",
    "We ask the question: If the states $\\rho$ and $\\sigma$ are close to each other $\\Vert \\rho - \\sigma \\Vert_1 \\leq \\epsilon$, does there exist a projector $\\Pi$, such that $\\Pi \\rho \\Pi \\leq (1+g_1(\\epsilon)) \\sigma$ and $\\text{tr}(\\Pi \\sigma) \\geq 1- g_2(\\epsilon)$ for some small functions $g_1(\\epsilon)$ and $g_2(\\epsilon)$?\n",
    "\n",
    "In this notebook, we focus on the case where the projectors consist of the eigenvectors of $\\sigma$. "
   ]
  },
  {
   "cell_type": "markdown",
   "metadata": {},
   "source": [
    "Package imports:"
   ]
  },
  {
   "cell_type": "code",
   "execution_count": 20,
   "metadata": {},
   "outputs": [],
   "source": [
    "import numpy as np\n",
    "import random as rnd"
   ]
  },
  {
   "cell_type": "markdown",
   "metadata": {},
   "source": [
    "Define the functions as $g_1(\\epsilon):= 10\\epsilon^{1/4}$ and $g_2(\\epsilon):= \\epsilon^{1/4}$:"
   ]
  },
  {
   "cell_type": "code",
   "execution_count": 21,
   "metadata": {},
   "outputs": [],
   "source": [
    "def g1(eps):\n",
    "    return 10*np.power(eps,1/4)\n",
    "\n",
    "def g2(eps):\n",
    "    return np.power(eps,1/4)"
   ]
  },
  {
   "cell_type": "markdown",
   "metadata": {},
   "source": [
    "Parameters for the problem:\n",
    "- N: dimension of $\\rho$ and $\\sigma$\n",
    "- eps_max: is the maximum possible $\\epsilon$ in the problem statement, we calculate actual distance later"
   ]
  },
  {
   "cell_type": "code",
   "execution_count": 22,
   "metadata": {},
   "outputs": [],
   "source": [
    "N=4\n",
    "eps_max = 1e-10"
   ]
  },
  {
   "cell_type": "markdown",
   "metadata": {},
   "source": [
    "### Construction of $\\sigma$\n",
    "\n",
    "We can assume WLOG that $\\sigma$ is a diagonal matrix. We need to make sure that at least some eigenvalues of $\\sigma$ are smaller than $g_2(\\epsilon)$, otherwise we can prove that the statement is true.\n",
    "\n",
    "num_small: represents number of eigenvalues smaller than $g_2(\\epsilon)$"
   ]
  },
  {
   "cell_type": "code",
   "execution_count": 23,
   "metadata": {},
   "outputs": [
    {
     "name": "stdout",
     "output_type": "stream",
     "text": [
      "[[2.95930174e-03 0.00000000e+00 0.00000000e+00 0.00000000e+00]\n",
      " [0.00000000e+00 1.75737230e-03 0.00000000e+00 0.00000000e+00]\n",
      " [0.00000000e+00 0.00000000e+00 8.21749253e-04 0.00000000e+00]\n",
      " [0.00000000e+00 0.00000000e+00 0.00000000e+00 9.94461577e-01]]\n"
     ]
    }
   ],
   "source": [
    "num_small= rnd.randint(1, N-1)\n",
    "eig_sigma= []\n",
    "\n",
    "# Select num_small numbers smaller than g2(eps_max) randomly\n",
    "for i in range(num_small):\n",
    "    eig_sigma.append(rnd.uniform(0, g2(eps_max)))\n",
    "\n",
    "# Calculate the sum of all the small eigenvalues\n",
    "sum_small = sum(eig_sigma)\n",
    "\n",
    "# Ensure that the sum of the small eigenvalues does not exceed 1\n",
    "if sum_small > 1: \n",
    "    target_sum_small = rnd.uniform(0,1)\n",
    "\n",
    "    # Rescale the small eigenvalues so that their sum is \n",
    "    eig_sigma = list(map(\n",
    "                    lambda x: x*target_sum_small/sum_small, \n",
    "                    eig_sigma\n",
    "                    )\n",
    "                )\n",
    "    sum_small = target_sum_small\n",
    "\n",
    "# Choose the rest of the eigenvalues\n",
    "eig_sigma_large = []\n",
    "\n",
    "for i in range(num_small, N): \n",
    "    eig_sigma_large.append(rnd.uniform(0,1))\n",
    "\n",
    "sum_large = sum(eig_sigma_large)\n",
    "target_sum_large = 1- sum_small\n",
    "\n",
    "# Rescale them so that their sum is 1- sum_small\n",
    "eig_sigma_large = list(map(\n",
    "                    lambda x: x*target_sum_large/sum_large, \n",
    "                    eig_sigma_large\n",
    "                    )\n",
    "                )\n",
    "\n",
    "eig_sigma.extend(eig_sigma_large)\n",
    "\n",
    "# Put the eigenvalues constructed in a diagonal matrix to create sigma \n",
    "sigma = np.diag(eig_sigma)"
   ]
  },
  {
   "cell_type": "markdown",
   "metadata": {},
   "source": [
    "### Sampling $\\rho$\n",
    "\n",
    "To sample $\\rho$, we sample two PSD matrices with trace=1, $P$ and $Q$ randomly until the matrix \n",
    "$$\\sigma + \\frac{\\epsilon}{2}P - \\frac{\\epsilon}{2}Q$$\n",
    "is positive. We choose this positive matrix to be $\\rho$. Clearly, this has trace=1 and $\\Vert \\rho - \\sigma \\Vert_1 \\leq \\epsilon_{\\max}$. We calculate the actual distance and use it for computation."
   ]
  },
  {
   "cell_type": "code",
   "execution_count": null,
   "metadata": {},
   "outputs": [],
   "source": [
    "from numpy.random import default_rng\n",
    "rng = default_rng()\n",
    "\n"
   ]
  }
 ],
 "metadata": {
  "kernelspec": {
   "display_name": "Python 3.9.7 64-bit",
   "language": "python",
   "name": "python3"
  },
  "language_info": {
   "codemirror_mode": {
    "name": "ipython",
    "version": 3
   },
   "file_extension": ".py",
   "mimetype": "text/x-python",
   "name": "python",
   "nbconvert_exporter": "python",
   "pygments_lexer": "ipython3",
   "version": "3.9.7"
  },
  "orig_nbformat": 4,
  "vscode": {
   "interpreter": {
    "hash": "aee8b7b246df8f9039afb4144a1f6fd8d2ca17a180786b69acc140d282b71a49"
   }
  }
 },
 "nbformat": 4,
 "nbformat_minor": 2
}
